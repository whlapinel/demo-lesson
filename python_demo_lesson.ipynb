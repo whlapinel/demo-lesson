{
 "cells": [
  {
   "cell_type": "markdown",
   "metadata": {
    "editable": true,
    "id": "KJghJzC1x-Ko",
    "tags": []
   },
   "source": [
    "# Intro to Python (Slide 1)\n",
    "\n",
    "## Variables, Data Types, Operators, and Input/Output"
   ]
  },
  {
   "cell_type": "markdown",
   "metadata": {
    "id": "uNm4g7dVT_ua"
   },
   "source": [
    "<hr/>"
   ]
  },
  {
   "cell_type": "markdown",
   "metadata": {
    "editable": true,
    "id": "gOk6ovuDx-Kq",
    "tags": []
   },
   "source": [
    "# Getting started (Slide 2)\n",
    "\n",
    "Today we will be using Google Colab!\n",
    "\n",
    "Clice [Here](https://colab.research.google.com/drive/1LlL6-4H3uZYC7e0uz9aRmOHhpI1_J3Fj?usp=sharing)"
   ]
  },
  {
   "cell_type": "markdown",
   "metadata": {
    "id": "urSPBweBT9vN"
   },
   "source": [
    "<hr/>"
   ]
  },
  {
   "cell_type": "markdown",
   "metadata": {
    "editable": true,
    "id": "JVzqHTSKx-Kr",
    "tags": []
   },
   "source": [
    "# Google Colab (Slide 3)\n",
    "\n",
    "Colab runs Jupyter Notebooks, a type of file that combines text and Python code in blocks called cells. Some blocks are text just for reading, and some have code, which can be run.\n",
    "\n",
    "- Tips for Windows:\n",
    "  - `Windows + left-arrow or right-arrow` to put your windows side-by-side\n",
    "  - `Alt+Tab` to switch between windows\n",
    "  - `Ctrl+Tab` and `Ctrl+Shift+Tab` to go back and forth between tabs"
   ]
  },
  {
   "cell_type": "markdown",
   "metadata": {
    "id": "Bv8cuTLvT6V6"
   },
   "source": [
    "<hr/>"
   ]
  },
  {
   "cell_type": "markdown",
   "metadata": {
    "editable": true,
    "id": "6c383HPThCtR",
    "tags": []
   },
   "source": [
    "# Hello World (Slide 4)\n",
    "\n",
    "Keeping with tradition we'll start by printing \"Hello, World!\" to the console."
   ]
  },
  {
   "cell_type": "code",
   "execution_count": null,
   "metadata": {
    "editable": true,
    "id": "eEp--0gkfiSM",
    "tags": []
   },
   "outputs": [],
   "source": [
    "print(\"Hello, World!\")"
   ]
  },
  {
   "cell_type": "markdown",
   "metadata": {
    "editable": true,
    "id": "vgNo5zNex-Kt",
    "tags": []
   },
   "source": [
    "- Run it by clicking the little play button\n",
    "- or typing `Shift + Enter`\n",
    "- Try changing the words between the double-quotes and run it again!\n",
    "\n",
    "## The print function\n",
    "\n",
    "`print()` is used to display output on the console or terminal. It takes one or more arguments and converts them into strings before printing them to the screen."
   ]
  },
  {
   "cell_type": "markdown",
   "metadata": {
    "id": "0s1b2C-oT3LX"
   },
   "source": [
    "<hr/>"
   ]
  },
  {
   "cell_type": "markdown",
   "metadata": {
    "editable": true,
    "id": "NHOEasbPgbI2",
    "tags": []
   },
   "source": [
    "# Variables (Slide 5)\n",
    "\n",
    "We can tell the computer to \"remember\" something using variables.\n",
    "\n",
    "Run the cell below:"
   ]
  },
  {
   "cell_type": "code",
   "execution_count": null,
   "metadata": {
    "editable": true,
    "id": "iXgFpGzPhM_E",
    "tags": []
   },
   "outputs": [],
   "source": [
    "name = \"Alice\"\n",
    "age = 30\n",
    "print(\"Hello,\", name)\n",
    "print(\"You are\", age, \"years old.\")"
   ]
  },
  {
   "cell_type": "markdown",
   "metadata": {
    "editable": true,
    "id": "kLYtFZT2x-Ku",
    "tags": []
   },
   "source": [
    "<hr/>"
   ]
  },
  {
   "cell_type": "markdown",
   "metadata": {
    "editable": true,
    "id": "3PHGi2B_x-Ku",
    "tags": []
   },
   "source": [
    "# Naming Variables (Slide 6)\n",
    "\n",
    "In lines 1 and 2 we are \"assigning\" a value to variables. You can name a variable whatever you want, but it should describe what it stores, just like when you're labeling boxes!"
   ]
  },
  {
   "cell_type": "markdown",
   "metadata": {
    "editable": true,
    "id": "w5da7soax-Ku",
    "tags": []
   },
   "source": [
    "<hr/>"
   ]
  },
  {
   "cell_type": "markdown",
   "metadata": {
    "editable": true,
    "id": "SEm3a7VZx-Ku",
    "tags": []
   },
   "source": [
    "# Another way to print variables (Slide 7)\n",
    "\n",
    "If you put a variable on the last line of a code cell, it will print the value of that variable. For example:"
   ]
  },
  {
   "cell_type": "code",
   "execution_count": null,
   "metadata": {
    "editable": true,
    "id": "xEdA8Awcx-Ku",
    "tags": []
   },
   "outputs": [],
   "source": [
    "name"
   ]
  },
  {
   "cell_type": "markdown",
   "metadata": {
    "editable": true,
    "id": "vSU-pSwLx-Ku",
    "tags": []
   },
   "source": [
    "<hr/>"
   ]
  },
  {
   "cell_type": "markdown",
   "metadata": {
    "editable": true,
    "id": "TPuuQKFox-Ku",
    "tags": []
   },
   "source": [
    "# More on Variables (Slide 8)\n",
    "```python\n",
    "age = 30\n",
    "```\n",
    "- The `=` in the above statement is called the assignment operator.\n",
    "- Unlike in math, the order matters and the variable always goes on the left; for example, this will give you a syntax error:"
   ]
  },
  {
   "cell_type": "code",
   "execution_count": null,
   "metadata": {
    "editable": true,
    "id": "lvbqkTOzx-Kv",
    "tags": []
   },
   "outputs": [],
   "source": [
    "30 = name"
   ]
  },
  {
   "cell_type": "markdown",
   "metadata": {
    "editable": true,
    "id": "RfsBAeE-x-Kv",
    "tags": []
   },
   "source": [
    "<hr/>"
   ]
  },
  {
   "cell_type": "markdown",
   "metadata": {
    "editable": true,
    "id": "SRDI8rxDx-Kv",
    "tags": []
   },
   "source": [
    "# Variables: Try it some more! (Slide 9)\n",
    "\n",
    "In the empty cell below, create a *new* variable and assign a value to it, then print the value of your variable. For example:\n",
    "\n",
    "```python\n",
    "today = \"Monday\"\n",
    "print(today) # this would print 'Monday'\n",
    "```"
   ]
  },
  {
   "cell_type": "code",
   "execution_count": null,
   "metadata": {
    "editable": true,
    "id": "jraz1JPZx-Kv",
    "tags": []
   },
   "outputs": [],
   "source": [
    "# Put your code below\n"
   ]
  },
  {
   "cell_type": "markdown",
   "metadata": {
    "editable": true,
    "id": "I85RGiXBx-Kv",
    "tags": []
   },
   "source": [
    "<hr/>"
   ]
  },
  {
   "cell_type": "markdown",
   "metadata": {
    "editable": true,
    "id": "eLG184Elx-Kv",
    "tags": []
   },
   "source": [
    "# More on Variable Names in Python (Slide 10)\n",
    "\n",
    "- Variable names must begin with a letter or an underscore (`_`).\n",
    "\n",
    "- There are some `conventions` you should follow:\n",
    "    - If your name has a space in it replace the space with an underscore.\n",
    "    - Only use lowercase letters. Uppercase names are reserved for classes, which we'll get to later."
   ]
  },
  {
   "cell_type": "markdown",
   "metadata": {
    "editable": true,
    "id": "wZg6iPRTx-Kv",
    "tags": []
   },
   "source": [
    "<hr/>"
   ]
  },
  {
   "cell_type": "markdown",
   "metadata": {
    "editable": true,
    "id": "wD66ABp4hXDG",
    "tags": []
   },
   "source": [
    "# Data Types (Slide 11)\n",
    "\n",
    "Python has strings, integers, floats, and booleans.\n",
    "\n",
    "To find the type of something, you can use the <code>type()</code> function"
   ]
  },
  {
   "cell_type": "code",
   "execution_count": null,
   "metadata": {
    "editable": true,
    "id": "MyymqlBshjgP",
    "tags": []
   },
   "outputs": [],
   "source": [
    "x = 10   # integer\n",
    "y = 3.14  # float\n",
    "z = \"Python\" # string\n",
    "a = True  # boolean\n",
    "\n",
    "type(a)"
   ]
  },
  {
   "cell_type": "markdown",
   "metadata": {
    "editable": true,
    "id": "z8uC2lMHx-Kw",
    "tags": []
   },
   "source": [
    "<hr/>"
   ]
  },
  {
   "cell_type": "markdown",
   "metadata": {
    "editable": true,
    "id": "eQk_uif1x-Kw",
    "tags": []
   },
   "source": [
    "# Data Types: Try It! (Slide 12)\n",
    "\n",
    "Check the type of the variable you created previously, using `type()`. Alternatively, you can make a new variable if you like.\n",
    "\n",
    "\n",
    "**Example**\n",
    "```python\n",
    "dog = \"Fido\"\n",
    "type(dog)\n",
    "```\n",
    "(This example should print 'str' which is short for string)\n"
   ]
  },
  {
   "cell_type": "code",
   "execution_count": null,
   "metadata": {
    "editable": true,
    "id": "BTV9sKpZx-Kw",
    "tags": []
   },
   "outputs": [],
   "source": [
    "# Put your code below\n"
   ]
  },
  {
   "cell_type": "markdown",
   "metadata": {
    "editable": true,
    "id": "dNE0y0hfx-Kx",
    "tags": []
   },
   "source": [
    "<hr/>"
   ]
  },
  {
   "cell_type": "markdown",
   "metadata": {
    "editable": true,
    "id": "1NN48aObh045",
    "tags": []
   },
   "source": [
    "# Operators (Slide 13)\n",
    "\n",
    "We can do arithmetic with these operators:\n",
    "\n",
    "- Addition: `+`\n",
    "- Subtraction: `-`\n",
    "- Multiplication: `*`\n",
    "- Division: `/`\n",
    "\n",
    "Run this code block:"
   ]
  },
  {
   "cell_type": "code",
   "execution_count": null,
   "metadata": {
    "editable": true,
    "id": "BbqQ9g08hRZW",
    "tags": []
   },
   "outputs": [],
   "source": [
    "result = 10 + 5\n",
    "result"
   ]
  },
  {
   "cell_type": "markdown",
   "metadata": {
    "editable": true,
    "id": "naXEzx3-x-Ky",
    "tags": []
   },
   "source": [
    "# Operators: Try it! (Slide 14)\n",
    "\n",
    "- In the cell below, do the following:\n",
    "    - store the result of 5 + 3 in a variable called `sum`\n",
    "    - store the result of 5 - 3 in a variable called `difference`\n",
    "    - store the result of 7 x 2 in a variable called `product`\n",
    "    - store the result of 6 / 2 in a variable called `quotient`"
   ]
  },
  {
   "cell_type": "code",
   "execution_count": null,
   "metadata": {
    "editable": true,
    "id": "2NmXIFFwx-Ky",
    "tags": []
   },
   "outputs": [],
   "source": [
    "# Put your code below\n"
   ]
  },
  {
   "cell_type": "markdown",
   "metadata": {
    "id": "nRu5ppWgUFV-"
   },
   "source": [
    "<hr/>"
   ]
  },
  {
   "cell_type": "markdown",
   "metadata": {
    "editable": true,
    "id": "nDJIcy5aiBUV",
    "tags": []
   },
   "source": [
    "# Input and Output (Slide 15)\n",
    "\n",
    "We can interact with the user by taking input and displaying output."
   ]
  },
  {
   "cell_type": "code",
   "execution_count": null,
   "metadata": {
    "editable": true,
    "id": "Qug4DVsOiKoV",
    "tags": []
   },
   "outputs": [],
   "source": [
    "name = input(\"What is your name? \")\n",
    "print(\"Hello,\", name)"
   ]
  },
  {
   "cell_type": "markdown",
   "metadata": {
    "id": "zPb2_GNLUHhx"
   },
   "source": [
    "<hr/>"
   ]
  },
  {
   "cell_type": "markdown",
   "metadata": {
    "id": "J4ARuOeFB-D7"
   },
   "source": [
    "# Input and Output: Try it (Slide 16)\n",
    "\n",
    "Ask the user for their name and then print a greeting using their name."
   ]
  },
  {
   "cell_type": "code",
   "execution_count": null,
   "metadata": {
    "id": "7d2DyhVDB4tj"
   },
   "outputs": [],
   "source": [
    "# Put your code below\n"
   ]
  },
  {
   "cell_type": "markdown",
   "metadata": {
    "id": "h_BEprCYUJiZ"
   },
   "source": [
    "<hr/>"
   ]
  },
  {
   "cell_type": "markdown",
   "metadata": {
    "id": "6UGi94DLGg9N"
   },
   "source": [
    "# That's it for now! (Slide 17)\n",
    "\n",
    "Remember, the best way to learn Python is play, practice, and experimentation!\n"
   ]
  }
 ],
 "metadata": {
  "colab": {
   "provenance": []
  },
  "kernelspec": {
   "display_name": "Python 3 (ipykernel)",
   "language": "python",
   "name": "python3"
  },
  "language_info": {
   "codemirror_mode": {
    "name": "ipython",
    "version": 3
   },
   "file_extension": ".py",
   "mimetype": "text/x-python",
   "name": "python",
   "nbconvert_exporter": "python",
   "pygments_lexer": "ipython3",
   "version": "3.10.12"
  },
  "toc": {
   "base_numbering": 0
  }
 },
 "nbformat": 4,
 "nbformat_minor": 0
}
