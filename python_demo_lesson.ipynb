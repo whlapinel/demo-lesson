{
 "cells": [
  {
   "cell_type": "markdown",
   "metadata": {
    "editable": true,
    "slideshow": {
     "slide_type": "slide"
    },
    "tags": []
   },
   "source": [
    "# Intro to Python\n",
    "\n",
    "## Variables, Data Types, Operators, and Input/Output"
   ]
  },
  {
   "cell_type": "markdown",
   "metadata": {
    "editable": true,
    "slideshow": {
     "slide_type": "slide"
    },
    "tags": []
   },
   "source": [
    "## Getting started\n",
    "\n",
    "Today we will be using Google Colab!\n",
    "\n",
    "## Please click the link in chat!\n",
    "\n",
    "*(Pssst!  Will!  Put the [link](https://colab.research.google.com/drive/1LlL6-4H3uZYC7e0uz9aRmOHhpI1_J3Fj?usp=sharing) in the chat!)*"
   ]
  },
  {
   "cell_type": "raw",
   "metadata": {
    "editable": true,
    "raw_mimetype": "",
    "slideshow": {
     "slide_type": "notes"
    },
    "tags": []
   },
   "source": [
    "Give me a thumbs up when you're ready to move on!"
   ]
  },
  {
   "cell_type": "raw",
   "metadata": {
    "editable": true,
    "raw_mimetype": "",
    "slideshow": {
     "slide_type": "notes"
    },
    "tags": []
   },
   "source": [
    "Notes: Some tips for switching between slides and colab\n",
    "\n",
    "- Windows:\n",
    "    - If your screen is big enough, `Windows + left-arrow or right-arrow` to put your windows side-by-side\n",
    "    - If too small for side-by-side, you can use `Alt+Tab` to switch between windows\n",
    "    - If both Teams and Colab are in the same Chrome window, try `Ctrl+Tab` and `Ctrl+Shift+Tab` to go back and forth between tabs"
   ]
  },
  {
   "cell_type": "markdown",
   "metadata": {
    "editable": true,
    "slideshow": {
     "slide_type": "slide"
    },
    "tags": []
   },
   "source": [
    "## What is Colab?\n",
    "\n",
    "Online Jupyter Notebooks!\n",
    "\n",
    "## Ok, what's a Jupyter Notebook?\n",
    "\n",
    "It's a place where you can combine Python code and text in blocks called cells."
   ]
  },
  {
   "cell_type": "raw",
   "metadata": {
    "editable": true,
    "raw_mimetype": "",
    "slideshow": {
     "slide_type": "notes"
    },
    "tags": []
   },
   "source": [
    "A cell can be a code cell or a markdown cell. Markdown is just a simple syntax for displaying text. If you double-click on a markdown cell you should be able to see the characters used in that syntax.  Code cells are where we'll put Python. These cells can be run one at a time, which is really nice for demonstrations or lessons (like this one!). Cells also have access to data from previously run cells, which is also nice!"
   ]
  },
  {
   "cell_type": "markdown",
   "metadata": {
    "editable": true,
    "slideshow": {
     "slide_type": "slide"
    },
    "tags": []
   },
   "source": [
    "## It's just one of the many ways you can write Python!\n",
    "\n",
    "Oftentimes you start learning in an IDE, or an Integrated Development Environment, such as Python's very own IDLE, or Visual Studio Code, or Pycharm.\n",
    "\n",
    "We're using Colab today just so we can get up and running fast without fussing with installations!"
   ]
  },
  {
   "cell_type": "markdown",
   "metadata": {
    "editable": true,
    "id": "6c383HPThCtR",
    "slideshow": {
     "slide_type": "slide"
    },
    "tags": []
   },
   "source": [
    "## Opening Ceremony\n",
    "\n",
    "The traditional starting point is printing \"Hello, World!\" to the console."
   ]
  },
  {
   "cell_type": "code",
   "execution_count": null,
   "metadata": {
    "colab": {
     "base_uri": "https://localhost:8080/"
    },
    "editable": true,
    "id": "eEp--0gkfiSM",
    "outputId": "bff4cca6-0426-4410-bf4a-b2cba2780e53",
    "slideshow": {
     "slide_type": ""
    },
    "tags": []
   },
   "outputs": [],
   "source": [
    "print(\"Hello, World!\")"
   ]
  },
  {
   "cell_type": "markdown",
   "metadata": {
    "editable": true,
    "slideshow": {
     "slide_type": ""
    },
    "tags": []
   },
   "source": [
    "- Run it by clicking the little play button: ![play_btn](./play_btn.png)\n",
    "- or typing `Shift + Enter`\n",
    "- Try changing the words between the double-quotes and run it again!"
   ]
  },
  {
   "cell_type": "raw",
   "metadata": {
    "editable": true,
    "raw_mimetype": "",
    "slideshow": {
     "slide_type": "notes"
    },
    "tags": []
   },
   "source": [
    "Give me a thumbs up when you're ready!"
   ]
  },
  {
   "cell_type": "raw",
   "metadata": {
    "editable": true,
    "raw_mimetype": "",
    "slideshow": {
     "slide_type": "notes"
    },
    "tags": []
   },
   "source": [
    "Notes: What is this print() thing?\n",
    "\n",
    "This is one of many built-in \"functions\" available in Python.  In describing this line, one would say that we are \"calling the print function and passing in the variable 'a'.\" Don't worry for now if that's too much to remember!\n",
    "\n",
    "A function is kind of a mini-program. Soon you'll be writing your own functions, but we will only be using or \"calling\" them for now."
   ]
  },
  {
   "cell_type": "markdown",
   "metadata": {
    "editable": true,
    "id": "NHOEasbPgbI2",
    "slideshow": {
     "slide_type": "slide"
    },
    "tags": []
   },
   "source": [
    "# Variables\n",
    "\n",
    "We can tell the computer to \"remember\" something using variables.\n",
    "\n",
    "Run the cell below:"
   ]
  },
  {
   "cell_type": "code",
   "execution_count": null,
   "metadata": {
    "colab": {
     "base_uri": "https://localhost:8080/"
    },
    "editable": true,
    "id": "iXgFpGzPhM_E",
    "outputId": "da11b74a-786a-441d-a18c-d14413ce24ee",
    "slideshow": {
     "slide_type": ""
    },
    "tags": []
   },
   "outputs": [],
   "source": [
    "name = \"Alice\"\n",
    "age = 30\n",
    "print(\"Hello,\", name)\n",
    "print(\"You are\", age, \"years old.\")"
   ]
  },
  {
   "cell_type": "markdown",
   "metadata": {
    "editable": true,
    "slideshow": {
     "slide_type": ""
    },
    "tags": []
   },
   "source": [
    "Note how the `print` function adds a space between comma-separated arguments"
   ]
  },
  {
   "cell_type": "markdown",
   "metadata": {
    "editable": true,
    "slideshow": {
     "slide_type": ""
    },
    "tags": []
   },
   "source": [
    "<hr/>"
   ]
  },
  {
   "cell_type": "markdown",
   "metadata": {
    "editable": true,
    "slideshow": {
     "slide_type": "slide"
    },
    "tags": []
   },
   "source": [
    "# Naming Variables\n",
    "\n",
    "In lines 1 and 2 we are `assigning` a value to variables. You can name your variable whatever you want, but it should describe what it stores, just like labeling moving boxes!\n",
    "\n",
    "![boxes](./boxes-2.jpg)"
   ]
  },
  {
   "cell_type": "markdown",
   "metadata": {
    "editable": true,
    "slideshow": {
     "slide_type": ""
    },
    "tags": []
   },
   "source": [
    "<hr/>"
   ]
  },
  {
   "cell_type": "markdown",
   "metadata": {
    "editable": true,
    "slideshow": {
     "slide_type": "slide"
    },
    "tags": []
   },
   "source": [
    "## Another way to print variables\n",
    "\n",
    "Conveniently, if you put a variable on the last line of a code cell, it will print the value of that variable. For example:"
   ]
  },
  {
   "cell_type": "code",
   "execution_count": null,
   "metadata": {
    "editable": true,
    "slideshow": {
     "slide_type": ""
    },
    "tags": []
   },
   "outputs": [],
   "source": [
    "name"
   ]
  },
  {
   "cell_type": "markdown",
   "metadata": {
    "editable": true,
    "slideshow": {
     "slide_type": ""
    },
    "tags": []
   },
   "source": [
    "<hr/>"
   ]
  },
  {
   "cell_type": "markdown",
   "metadata": {
    "editable": true,
    "slideshow": {
     "slide_type": "slide"
    },
    "tags": []
   },
   "source": [
    "## More on Variables\n",
    "```python\n",
    "age = 30\n",
    "```\n",
    "- The `=` in the above statement is called the assignment operator. \n",
    "- Unlike in Math, the order matters and the variable always goes on the left; for example, this will give you a syntax error:"
   ]
  },
  {
   "cell_type": "code",
   "execution_count": null,
   "metadata": {
    "editable": true,
    "slideshow": {
     "slide_type": ""
    },
    "tags": []
   },
   "outputs": [],
   "source": [
    "30 = name"
   ]
  },
  {
   "cell_type": "raw",
   "metadata": {
    "editable": true,
    "raw_mimetype": "",
    "slideshow": {
     "slide_type": "notes"
    },
    "tags": []
   },
   "source": [
    "Run the code above and give me a thumbs up!"
   ]
  },
  {
   "cell_type": "markdown",
   "metadata": {
    "editable": true,
    "slideshow": {
     "slide_type": ""
    },
    "tags": []
   },
   "source": [
    "<hr/>"
   ]
  },
  {
   "cell_type": "markdown",
   "metadata": {
    "editable": true,
    "slideshow": {
     "slide_type": "slide"
    },
    "tags": []
   },
   "source": [
    "## Variables: Try it some more!\n",
    "\n",
    "In the empty cell below, create a variable and assign a value to it. For example:\n",
    "\n",
    "```python\n",
    "today = \"Monday\"\n",
    "print(today) # this should print 'Monday'\n",
    "```"
   ]
  },
  {
   "cell_type": "code",
   "execution_count": null,
   "metadata": {
    "editable": true,
    "slideshow": {
     "slide_type": ""
    },
    "tags": []
   },
   "outputs": [],
   "source": [
    "# Put your code below\n"
   ]
  },
  {
   "cell_type": "markdown",
   "metadata": {
    "editable": true,
    "slideshow": {
     "slide_type": ""
    },
    "tags": []
   },
   "source": [
    "<hr/>"
   ]
  },
  {
   "cell_type": "raw",
   "metadata": {
    "editable": true,
    "raw_mimetype": "",
    "slideshow": {
     "slide_type": "notes"
    },
    "tags": []
   },
   "source": [
    "Give me a thumbs up when you're ready!"
   ]
  },
  {
   "cell_type": "markdown",
   "metadata": {
    "editable": true,
    "slideshow": {
     "slide_type": "slide"
    },
    "tags": []
   },
   "source": [
    "## More on Variable Names in Python\n",
    "\n",
    "- Variable names must begin with a letter or an underscore (`_`).\n",
    "\n",
    "- There are some `conventions` you should follow:\n",
    "    - If your name has a space in it replace the space with an underscore.\n",
    "    - Only use lowercase letters. Uppercase names are reserved for classes, which we'll get to later."
   ]
  },
  {
   "cell_type": "markdown",
   "metadata": {
    "editable": true,
    "slideshow": {
     "slide_type": ""
    },
    "tags": []
   },
   "source": [
    "<hr/>"
   ]
  },
  {
   "cell_type": "markdown",
   "metadata": {
    "editable": true,
    "id": "wD66ABp4hXDG",
    "slideshow": {
     "slide_type": "slide"
    },
    "tags": []
   },
   "source": [
    "# Data Types\n",
    "\n",
    "Python can handle strings, integers, floats, and booleans.\n",
    "\n",
    "To find the type of something, you can use the <code>type()</code> function"
   ]
  },
  {
   "cell_type": "code",
   "execution_count": null,
   "metadata": {
    "editable": true,
    "id": "MyymqlBshjgP",
    "slideshow": {
     "slide_type": ""
    },
    "tags": []
   },
   "outputs": [],
   "source": [
    "x = 10   # integer\n",
    "y = 3.14  # float\n",
    "z = \"Python\" # string\n",
    "a = True  # boolean\n",
    "\n",
    "type(a)"
   ]
  },
  {
   "cell_type": "raw",
   "metadata": {
    "editable": true,
    "raw_mimetype": "",
    "slideshow": {
     "slide_type": "notes"
    },
    "tags": []
   },
   "source": [
    "Run the code above and give me a thumbs up!"
   ]
  },
  {
   "cell_type": "markdown",
   "metadata": {
    "editable": true,
    "slideshow": {
     "slide_type": ""
    },
    "tags": []
   },
   "source": [
    "<hr/>"
   ]
  },
  {
   "cell_type": "markdown",
   "metadata": {
    "editable": true,
    "id": "wD66ABp4hXDG",
    "slideshow": {
     "slide_type": "slide"
    },
    "tags": []
   },
   "source": [
    "## Data Types: Try It!\n",
    "\n",
    "Create another variable of your own, and then check the type using <code>type()</code>\n",
    "\n",
    "**Example**\n",
    "```python\n",
    "dog = \"Fido\"\n",
    "type(dog)\n",
    "```\n",
    "(This example should print 'str' which is short for string)\n"
   ]
  },
  {
   "cell_type": "code",
   "execution_count": null,
   "metadata": {
    "editable": true,
    "id": "MyymqlBshjgP",
    "slideshow": {
     "slide_type": ""
    },
    "tags": []
   },
   "outputs": [],
   "source": [
    "# Put your code below\n"
   ]
  },
  {
   "cell_type": "raw",
   "metadata": {
    "editable": true,
    "raw_mimetype": "",
    "slideshow": {
     "slide_type": "notes"
    },
    "tags": []
   },
   "source": [
    "Run the code above and give me a thumbs up!"
   ]
  },
  {
   "cell_type": "markdown",
   "metadata": {
    "editable": true,
    "slideshow": {
     "slide_type": ""
    },
    "tags": []
   },
   "source": [
    "<hr/>"
   ]
  },
  {
   "cell_type": "markdown",
   "metadata": {
    "editable": true,
    "id": "1NN48aObh045",
    "slideshow": {
     "slide_type": "slide"
    },
    "tags": []
   },
   "source": [
    "# Operators\n",
    "\n",
    "We can do arithmetic with (+, -, *, /, %) and comparison with (==, !=, <, >) operators."
   ]
  },
  {
   "cell_type": "code",
   "execution_count": null,
   "metadata": {
    "colab": {
     "base_uri": "https://localhost:8080/"
    },
    "editable": true,
    "id": "BbqQ9g08hRZW",
    "outputId": "8931460f-02de-438e-b45b-8f505c032f54",
    "slideshow": {
     "slide_type": ""
    },
    "tags": []
   },
   "outputs": [],
   "source": [
    "result = 10 + 5\n",
    "result"
   ]
  },
  {
   "cell_type": "raw",
   "metadata": {
    "editable": true,
    "raw_mimetype": "",
    "slideshow": {
     "slide_type": "notes"
    },
    "tags": []
   },
   "source": [
    "Run the code above and give me a thumbs up!"
   ]
  },
  {
   "cell_type": "markdown",
   "metadata": {
    "editable": true,
    "slideshow": {
     "slide_type": "slide"
    },
    "tags": []
   },
   "source": [
    "## Operators: Try it!\n",
    "\n",
    "- In the cell below, do the following:\n",
    "    - store the result of 5 + 3 in a variable called `sum`\n",
    "    - store the result of 5 - 3 in a variable called `difference`\n",
    "    - store the result of 7 x 2 in a variable called `product`\n",
    "    - store the result of 6 / 2 in a variable called `quotient`"
   ]
  },
  {
   "cell_type": "code",
   "execution_count": null,
   "metadata": {
    "editable": true,
    "slideshow": {
     "slide_type": ""
    },
    "tags": []
   },
   "outputs": [],
   "source": [
    "# Put your code below\n"
   ]
  },
  {
   "cell_type": "markdown",
   "metadata": {
    "editable": true,
    "id": "nDJIcy5aiBUV",
    "slideshow": {
     "slide_type": "slide"
    },
    "tags": []
   },
   "source": [
    "# Input and Output\n",
    "\n",
    "We can interact with the user by taking input and displaying output."
   ]
  },
  {
   "cell_type": "code",
   "execution_count": null,
   "metadata": {
    "colab": {
     "base_uri": "https://localhost:8080/"
    },
    "editable": true,
    "id": "Qug4DVsOiKoV",
    "outputId": "ac7a1418-fe11-48f6-eab7-5cb901f24477",
    "slideshow": {
     "slide_type": ""
    },
    "tags": []
   },
   "outputs": [],
   "source": [
    "name = input(\"What is your name? \")\n",
    "print(\"Hello,\", name)"
   ]
  },
  {
   "cell_type": "raw",
   "metadata": {
    "editable": true,
    "raw_mimetype": "",
    "slideshow": {
     "slide_type": "notes"
    },
    "tags": []
   },
   "source": [
    "Run the code above and give me a thumbs up!"
   ]
  },
  {
   "cell_type": "markdown",
   "metadata": {
    "editable": true,
    "slideshow": {
     "slide_type": "slide"
    },
    "tags": []
   },
   "source": [
    "## Input and Output: Try it!\n",
    "\n",
    "Ask the user for their name and then print a greeting using their name."
   ]
  },
  {
   "cell_type": "code",
   "execution_count": null,
   "metadata": {
    "editable": true,
    "slideshow": {
     "slide_type": ""
    },
    "tags": []
   },
   "outputs": [],
   "source": [
    "# Put your code below"
   ]
  },
  {
   "cell_type": "markdown",
   "metadata": {
    "editable": true,
    "slideshow": {
     "slide_type": "slide"
    },
    "tags": []
   },
   "source": [
    "# That's it for today!\n",
    "\n",
    "Remember: the best way to learn Python is by playing with it! \n",
    "\n",
    "Practice and experiment whenever you can!\n",
    "\n",
    "![porky-pig](./porky_pig.jpg)"
   ]
  }
 ],
 "metadata": {
  "colab": {
   "provenance": []
  },
  "kernelspec": {
   "display_name": "Python 3 (ipykernel)",
   "language": "python",
   "name": "python3"
  },
  "language_info": {
   "codemirror_mode": {
    "name": "ipython",
    "version": 3
   },
   "file_extension": ".py",
   "mimetype": "text/x-python",
   "name": "python",
   "nbconvert_exporter": "python",
   "pygments_lexer": "ipython3",
   "version": "3.10.12"
  },
  "toc": {
   "base_numbering": 0
  }
 },
 "nbformat": 4,
 "nbformat_minor": 4
}
